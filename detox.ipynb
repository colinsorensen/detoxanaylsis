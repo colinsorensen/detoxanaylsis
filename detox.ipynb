{
 "cells": [
  {
   "cell_type": "markdown",
   "metadata": {},
   "source": [
    "<h2>Identifying Traits of Clients with Longer Stays at Detox Facility X</h2>"
   ]
  },
  {
   "cell_type": "markdown",
   "metadata": {},
   "source": [
    "<h3>Background</h3>\n",
    "Today we have a small dataset about various clients and their lengths of stay at a detox facility. The facility is interested in identifying which client characteristics are related to longer stays at the facility, which it has classified as 5 or more days.\n",
    "<h3>Bottom Line</h3>\n",
    "<li><b>Race:</b> According to the p-value, Hispanic is the only race that is predictive of stays longer than 5 days. Hispanic Individuals  have nearly double the odds (1.81) of having longer stays than than the baseline race group (White). While trends exist among other races, we cannot infer that these trends are due to race and not just a result of random chance. This might change if the sample size were to increase for other races (e.g. American Indian or Asian).\n",
    "<br>\n",
    "<br>\n",
    "<li><b>Substance:</b> Individuals who used Cocaine  prior to entry have the highest odds of staying longer than 5 dys. This is followed, in order, by users of Methampethamines, \"Other\" Drugs, Marijuana, and Heroin.\n",
    "<br>\n",
    "<br>\n",
    "<li><b>Frequency of Substance Use:</b> Individuals increase their odds of a longer stay by 3% with each additional day of substance use prior to entry. Thus, individuals who used their substance fewer days are less likely to stay as long, and individuals who used their substance every day of the 30 days leading up to detox have the highest likelihood of having longer stays.\n",
    "<br>\n",
    "<br>   \n",
    "<li><b>Disability & Age:</b> Neither of these traits were predictive of longer stays at a statistically significant level. \n",
    "<h3>Recommendations</h3> In order to decrease long stays (5 or more days), this detox center should focus its efforts on a) Hispanic individuals who b) used Cocaine as their primary substance prior to entry, and c) used it the majority of the month prior to entry. In addition, it should target any other individuals who used Methamphetamines or \"Other\" Substances, and of this group, prioritize those who used their substance for more days prior to entry. "
   ]
  },
  {
   "cell_type": "markdown",
   "metadata": {},
   "source": [
    "<h3>Analysis</h3>"
   ]
  },
  {
   "cell_type": "code",
   "execution_count": 1,
   "metadata": {},
   "outputs": [
    {
     "name": "stdout",
     "output_type": "stream",
     "text": [
      "/Users/colinsorensen/Desktop/datapractice/Detox\n"
     ]
    }
   ],
   "source": [
    "cd /Users/colinsorensen/Desktop/datapractice/Detox"
   ]
  },
  {
   "cell_type": "code",
   "execution_count": 2,
   "metadata": {},
   "outputs": [],
   "source": [
    "#Import modules\n",
    "\n",
    "import pandas as pd\n",
    "import numpy as np\n",
    "import seaborn as sns\n",
    "from matplotlib import pyplot as plt\n",
    "import statsmodels.formula.api as smf  \n",
    "import statsmodels.api as sm\n",
    "from scipy.stats import chi2_contingency\n",
    "from sklearn.linear_model import LogisticRegression"
   ]
  },
  {
   "cell_type": "code",
   "execution_count": 3,
   "metadata": {},
   "outputs": [
    {
     "data": {
      "text/plain": [
       "(702, 11)"
      ]
     },
     "execution_count": 3,
     "metadata": {},
     "output_type": "execute_result"
    }
   ],
   "source": [
    "#Import file and view columns\n",
    "\n",
    "detox = pd.read_csv(\"detox.csv\")\n",
    "detox.head()\n",
    "detox.shape"
   ]
  },
  {
   "cell_type": "code",
   "execution_count": 4,
   "metadata": {},
   "outputs": [
    {
     "data": {
      "text/plain": [
       "0"
      ]
     },
     "execution_count": 4,
     "metadata": {},
     "output_type": "execute_result"
    }
   ],
   "source": [
    "#Check for duplicate client IDs\n",
    "detox[detox['Client_ID'].duplicated()]['Client_ID'].count()"
   ]
  },
  {
   "cell_type": "markdown",
   "metadata": {},
   "source": [
    "After importing the file, we can see that we have a fairly straightforward dataset with 702 rows and 11 columns. Each client has his/her own unique client ID, and we found from the above code that there are no duplicate client IDs. The variables are fairly straightforward--various demographic traits, plus the date of enrollment and exit from the program, the frequency of substance use in the last 30 days at both enrollment and exit, as well as the type of substance used at enrollment and exit."
   ]
  },
  {
   "cell_type": "code",
   "execution_count": 5,
   "metadata": {},
   "outputs": [
    {
     "name": "stdout",
     "output_type": "stream",
     "text": [
      "<class 'pandas.core.frame.DataFrame'>\n",
      "RangeIndex: 702 entries, 0 to 701\n",
      "Data columns (total 11 columns):\n",
      " #   Column                                        Non-Null Count  Dtype \n",
      "---  ------                                        --------------  ----- \n",
      " 0   Client_ID                                     702 non-null    int64 \n",
      " 1   Age                                           702 non-null    int64 \n",
      " 2   Gender                                        702 non-null    object\n",
      " 3   Race                                          702 non-null    object\n",
      " 4   Disability                                    702 non-null    object\n",
      " 5   Program Enrollment                            702 non-null    object\n",
      " 6   Primary Substance at Enrollment               702 non-null    object\n",
      " 7   Frequency of Primary Substance at Enrollment  702 non-null    int64 \n",
      " 8   Program Exit Date                             702 non-null    object\n",
      " 9   Primary Substance at Exit                     702 non-null    object\n",
      " 10  Frequency of Primary Substance at Exit        702 non-null    int64 \n",
      "dtypes: int64(4), object(7)\n",
      "memory usage: 60.5+ KB\n"
     ]
    }
   ],
   "source": [
    "detox.info()"
   ]
  },
  {
   "cell_type": "markdown",
   "metadata": {},
   "source": [
    "While we have a program enrollment and program exit date, the table above shows us that they are stored as strings, so we must convert them to datetime data types. From there, we will subtract the enrollment date from the exit date for each client to identify each client's length of stay in days. "
   ]
  },
  {
   "cell_type": "code",
   "execution_count": 6,
   "metadata": {},
   "outputs": [],
   "source": [
    "#Convert program enrollment and exit date to datetime data types\n",
    "detox[['Program Enrollment','Program Exit Date']] = detox[['Program Enrollment','Program Exit Date']].apply(pd.to_datetime,errors='coerce')\n",
    "\n",
    "#Subtract enrollment date from exit date and assign to get number of days. Assign as new column.\n",
    "detox['no_days'] = detox['Program Exit Date'] - detox['Program Enrollment']"
   ]
  },
  {
   "cell_type": "markdown",
   "metadata": {},
   "source": [
    "After subtracting and calculating the number of days, we should then convert these to numeric datatypes."
   ]
  },
  {
   "cell_type": "code",
   "execution_count": 7,
   "metadata": {},
   "outputs": [],
   "source": [
    "#Convert datetime to string, split string based on space (to separate number from 'days'), and convert to float.\n",
    "\n",
    "detox['no_days'] = detox['no_days'].astype(str)\n",
    "detox['no_days'] = detox['no_days'].str.split(' ').str[0]\n",
    "detox['no_days'] = detox['no_days'].astype(float)"
   ]
  },
  {
   "cell_type": "markdown",
   "metadata": {},
   "source": [
    "Next, since the facility is interested in learning more about the traits that are predictive of stays that are 5 or more days, we can use the newly created 'no_days' column to create a new column, 'long_stay'. From here, we'll assign a 0 to any client with a stay shorter than 5 days and a 1 to any client with stays that were 5 days or longer."
   ]
  },
  {
   "cell_type": "code",
   "execution_count": 8,
   "metadata": {},
   "outputs": [],
   "source": [
    "#Assign 0 or 1 to each client (0 for <5 days and 1 for ≥5 days)\n",
    "detox.loc[detox['no_days'] < 5,'long_stay'] = 0\n",
    "detox.loc[detox['no_days'] >= 5,'long_stay'] = 1"
   ]
  },
  {
   "cell_type": "markdown",
   "metadata": {},
   "source": [
    "Because age and substance frequency are both continuous variables, it will be easier to visualize them in the next step with bins."
   ]
  },
  {
   "cell_type": "code",
   "execution_count": 9,
   "metadata": {},
   "outputs": [],
   "source": [
    "#Create 'age_bins' and 'frequency_bins'\n",
    "\n",
    "bins = [0, 10, 20, 30, 40, 50, 60, 70, 80]\n",
    "detox['age_bins'] = pd.cut(detox['Age'], bins)\n",
    "\n",
    "bins = [0, 10, 20, 30]\n",
    "detox['frequency_bins'] = pd.cut(detox['Frequency of Primary Substance at Enrollment'], bins)"
   ]
  },
  {
   "cell_type": "markdown",
   "metadata": {},
   "source": [
    "Great! Now we're ready to visualize the data. Let's see the breakdown of clients staying longer than 5 days or more versus clients staying less than five days by gender, age, race, disability, primary substance, and frequency of substance use."
   ]
  },
  {
   "cell_type": "code",
   "execution_count": 10,
   "metadata": {},
   "outputs": [
    {
     "data": {
      "image/png": "[encoded data removed]",
      "text/plain": [
       "<Figure size 864x864 with 6 Axes>"
      ]
     },
     "metadata": {
      "needs_background": "light"
     },
     "output_type": "display_data"
    }
   ],
   "source": [
    "#Visualize the count for each variable\n",
    "cols = ['Gender', 'age_bins', 'Race', 'Disability',\n",
    "       'Primary Substance at Exit', 'frequency_bins']\n",
    "\n",
    "n_rows = 3\n",
    "n_cols = 2\n",
    "\n",
    "#Subplot grid and figure size of each group.\n",
    "fig, axs =  plt.subplots(n_rows,n_cols,figsize=[n_cols * 6, n_rows * 4])\n",
    "for r in range (0, n_rows):\n",
    "    for c in range(0, n_cols):\n",
    "        \n",
    "        i = r*n_cols + c #index to go through number of columns\n",
    "        ax=axs[r][c]\n",
    "        sns.countplot(y=detox[cols[i]],ax=ax,hue=detox[\"long_stay\"])\n",
    "        ax.set_title(cols[i])\n",
    "        ax.legend(title='>5 Days',loc='upper right')\n",
    "        plt.tight_layout()\n",
    "        \n",
    "plt.show()"
   ]
  },
  {
   "cell_type": "markdown",
   "metadata": {},
   "source": [
    "Some pretty quick trends emerge from the above graphs. \n",
    "<ul>\n",
    "<li><b>Gender:</b> Gender doesn't appear to have much effect; while males certainly access the detox center at higher rates, their proportion of individuals staying longer than 5 days is fairly similar to females.\n",
    "<li><b>Age:</b> Individuals that are younger (20-40) appear to stay at higher rates than those in the 40-70 age range. However, it's not a perfect linear relationship, as individuals between 70-80 saw nearly double the number of individuals staying 5 days or more as those staying less than 5 days.</li>\n",
    "<li><b>Race:</b> Hispanic and American Indian individuals had the highest rates of stayers, and White individuals had the lowest.\n",
    "<li><b>Disability:</b> Individuals with disabilities stayed in detox at similar rates.\n",
    "<li><b>Primary Substance at Exit:</b> Individuals using alcohol had the shortest stays by a wide margin. Individuals using methamphetamines, cocaine, or other were more likely to stay 5 days or more.\n",
    "<li><b>Frequency of Use at Enrollment:</b> Unsurprisingly, individuals with less frequent substance use in the month prior to enrollment had shorter stays. For example, individuals were twice as likely to leave detox in less than 5 days if they had used their substance no more than 10 days in the month prior to enrollment. However, individuals appear to have had an equally likely chance of a long or short stay  once their substance use increased to 11 days or more."
   ]
  },
  {
   "cell_type": "markdown",
   "metadata": {},
   "source": [
    "So let's test some of these more in depth using logistic regression and Chi-Square. First we'll start with age. While we previously binned age to make it easier to read in the above graphs, we can keep it in its continuous form for the regression. We get the below results."
   ]
  },
  {
   "cell_type": "code",
   "execution_count": 11,
   "metadata": {},
   "outputs": [
    {
     "name": "stdout",
     "output_type": "stream",
     "text": [
      "Optimization terminated successfully.\n",
      "         Current function value: 0.680653\n",
      "         Iterations 4\n",
      "                           Logit Regression Results                           \n",
      "==============================================================================\n",
      "Dep. Variable:              long_stay   No. Observations:                  702\n",
      "Model:                          Logit   Df Residuals:                      700\n",
      "Method:                           MLE   Df Model:                            1\n",
      "Date:                Fri, 29 May 2020   Pseudo R-squ.:                0.006737\n",
      "Time:                        19:15:36   Log-Likelihood:                -477.82\n",
      "converged:                       True   LL-Null:                       -481.06\n",
      "Covariance Type:            nonrobust   LLR p-value:                   0.01090\n",
      "==============================================================================\n",
      "                 coef    std err          z      P>|z|      [0.025      0.975]\n",
      "------------------------------------------------------------------------------\n",
      "Intercept      0.3725      0.257      1.448      0.148      -0.132       0.877\n",
      "Age           -0.0144      0.006     -2.533      0.011      -0.025      -0.003\n",
      "==============================================================================\n",
      "=====================================================================================================================================\n",
      "Odds Ratios\n",
      "Intercept    1.451337\n",
      "Age          0.985730\n",
      "dtype: float64\n"
     ]
    }
   ],
   "source": [
    "#Show logistic regression table for age\n",
    "formula = \"long_stay ~ Age\"\n",
    "results = smf.logit(formula,detox).fit()\n",
    "print(results.summary())\n",
    "\n",
    "#Show odds ratios\n",
    "print(\"=====================================================================================================================================\")\n",
    "print(\"Odds Ratios\")\n",
    "print(np.exp(results.params))"
   ]
  },
  {
   "cell_type": "markdown",
   "metadata": {},
   "source": [
    "We can see that age is statistically significant because it's p-value is less than .05. Furthermore, the odds for age are 98.5%, which means for each additional year in age, we can expect that the odds of an individual remaining in detox past 5 days decreases by ~1.5%. This makes sense--we saw in the above graphs that some individuals past 70 stay in detox for longer periods at higher rates, so this data likely throws off the model."
   ]
  },
  {
   "cell_type": "markdown",
   "metadata": {},
   "source": [
    "Next, we'll move on to frequency of substance use in the 30 days prior to enrollment. Because frequency is also an ordinal variable, we'll start with logistic regression."
   ]
  },
  {
   "cell_type": "code",
   "execution_count": 12,
   "metadata": {},
   "outputs": [
    {
     "name": "stdout",
     "output_type": "stream",
     "text": [
      "Optimization terminated successfully.\n",
      "         Current function value: 0.677328\n",
      "         Iterations 4\n",
      "                           Logit Regression Results                           \n",
      "==============================================================================\n",
      "Dep. Variable:              long_stay   No. Observations:                  702\n",
      "Model:                          Logit   Df Residuals:                      700\n",
      "Method:                           MLE   Df Model:                            1\n",
      "Date:                Fri, 29 May 2020   Pseudo R-squ.:                 0.01159\n",
      "Time:                        19:15:36   Log-Likelihood:                -475.48\n",
      "converged:                       True   LL-Null:                       -481.06\n",
      "Covariance Type:            nonrobust   LLR p-value:                 0.0008407\n",
      "=================================================================================\n",
      "                    coef    std err          z      P>|z|      [0.025      0.975]\n",
      "---------------------------------------------------------------------------------\n",
      "Intercept        -0.6158      0.135     -4.568      0.000      -0.880      -0.352\n",
      "Frequency_Use     0.0215      0.006      3.320      0.001       0.009       0.034\n",
      "=================================================================================\n",
      "=====================================================================================================================================\n",
      "Odds Ratios\n",
      "Intercept        0.540190\n",
      "Frequency_Use    1.021711\n",
      "dtype: float64\n"
     ]
    }
   ],
   "source": [
    "#Rename column for use in logistic regression model\n",
    "detox = detox.rename(columns={'Frequency of Primary Substance at Enrollment':'Frequency_Use'})\n",
    "\n",
    "#Show logistic regression table for frequency of use\n",
    "formula = \"long_stay ~ Frequency_Use\"\n",
    "results = smf.logit(formula,detox).fit()\n",
    "print(results.summary())\n",
    "\n",
    "#Show odds ratios\n",
    "print(\"=====================================================================================================================================\")\n",
    "print(\"Odds Ratios\")\n",
    "print(np.exp(results.params))"
   ]
  },
  {
   "cell_type": "markdown",
   "metadata": {},
   "source": [
    "Again, we find a statistically significant relationship at .001. From the odds, we can see that there is a positive relationship. For every additional day of substance use, the odds of stay longer than 5 days increases by 2.1%."
   ]
  },
  {
   "cell_type": "markdown",
   "metadata": {},
   "source": [
    "Race is up next and we can use Chi-Square since it's a nominal variable. We could also use logistic regression--but I'm mostly just curious to see if the variable as a whole is statistically signiicant and worth including in our final model. Chi-Square will do that for us."
   ]
  },
  {
   "cell_type": "code",
   "execution_count": 13,
   "metadata": {},
   "outputs": [
    {
     "name": "stdout",
     "output_type": "stream",
     "text": [
      "long_stay                           0.0       1.0\n",
      "Race                                             \n",
      "African American               0.507042  0.492958\n",
      "American Indian                0.250000  0.750000\n",
      "Asian or Pacific Islander      0.428571  0.571429\n",
      "Hispanic                       0.426667  0.573333\n",
      "Other or Multiple Race Groups  0.500000  0.500000\n",
      "White                          0.600390  0.399610\n",
      "Chi-square Statistic : 13.63348660761484 ,p-value: 0.018113061258914466\n"
     ]
    }
   ],
   "source": [
    "#Calculate chi-square for Race\n",
    "x=detox.Race\n",
    "y=detox.long_stay\n",
    "\n",
    "print(pd.crosstab(x,y,normalize='index'))\n",
    "\n",
    "chi2, p, dof, expected = chi2_contingency(pd.crosstab(x,y))\n",
    "print (f'Chi-square Statistic : {chi2} ,p-value: {p}')"
   ]
  },
  {
   "cell_type": "markdown",
   "metadata": {},
   "source": [
    "With a p-value of .018, race is indeed statistically significant. This is not surprising--there are some major discrepancies in the percentages above. With that information, we can include it in our final model below."
   ]
  },
  {
   "cell_type": "markdown",
   "metadata": {},
   "source": [
    "Lastly, let's test out primary substance at enrollment, since this is the substance that brought them to detox in the first place. Again, we just want a p-value, so we can use Chi-Square."
   ]
  },
  {
   "cell_type": "code",
   "execution_count": 14,
   "metadata": {},
   "outputs": [
    {
     "name": "stdout",
     "output_type": "stream",
     "text": [
      "Chi-square Statistic : 35.260088653668284 ,p-value: 3.837216476806439e-06\n"
     ]
    }
   ],
   "source": [
    "#Rename column for use in logistic regression model\n",
    "detox = detox.rename(columns={'Primary Substance at Enrollment':'Primary_Substance'})\n",
    "\n",
    "#Calculate chi-square for Substance Prior to Enrollment\n",
    "x=detox['Primary_Substance']\n",
    "y=detox.long_stay\n",
    "\n",
    "chi2, p, dof, expected = chi2_contingency(pd.crosstab(x,y))\n",
    "print (f'Chi-square Statistic : {chi2} ,p-value: {p}')"
   ]
  },
  {
   "cell_type": "markdown",
   "metadata": {},
   "source": [
    "Such a small p-value! It appears that the type of substance an individual uses prior to entry has a significant affect on their length of stay at this detox facility. So summarized, we found the following p-values for each variable:\n",
    "\n",
    "<li><b>Age:</b> .011\n",
    "<li><b>Frequency of Substance Use:</b> .001\n",
    "<li><b>Race:</b> .018\n",
    "<li><b>Substance Prior to Enrollment:</b> 3.837216476806439e-06 (small)\n",
    "<br>\n",
    "<br> \n",
    "It therefore makes sense to include each variable in a multivariable regression model. Note: while I did not include them in this notebook, I did conduct similar tests on Gender and Disability--neither of which were statistically significant.\n",
    "<br>\n",
    "<br> \n",
    "A multi-variable regression with each of the above values appears below. I chose to use 'White' as the base category for Race and 'Alcohol' as the base category for substance, because a) they have the highest n-values for their respective categories, and b) they are the easiest categories for contextualizing the results."
   ]
  },
  {
   "cell_type": "code",
   "execution_count": 15,
   "metadata": {},
   "outputs": [
    {
     "name": "stdout",
     "output_type": "stream",
     "text": [
      "Optimization terminated successfully.\n",
      "         Current function value: 0.633462\n",
      "         Iterations 5\n",
      "                           Logit Regression Results                           \n",
      "==============================================================================\n",
      "Dep. Variable:              long_stay   No. Observations:                  702\n",
      "Model:                          Logit   Df Residuals:                      688\n",
      "Method:                           MLE   Df Model:                           13\n",
      "Date:                Fri, 29 May 2020   Pseudo R-squ.:                 0.07560\n",
      "Time:                        19:15:36   Log-Likelihood:                -444.69\n",
      "converged:                       True   LL-Null:                       -481.06\n",
      "Covariance Type:            nonrobust   LLR p-value:                 2.506e-10\n",
      "=====================================================================================================================================\n",
      "                                                                        coef    std err          z      P>|z|      [0.025      0.975]\n",
      "-------------------------------------------------------------------------------------------------------------------------------------\n",
      "Intercept                                                            -0.8642      0.330     -2.620      0.009      -1.511      -0.218\n",
      "C(Race, Treatment('White'))[T.African American]                       0.4038      0.266      1.517      0.129      -0.118       0.926\n",
      "C(Race, Treatment('White'))[T.American Indian]                        1.2715      0.859      1.481      0.139      -0.411       2.954\n",
      "C(Race, Treatment('White'))[T.Asian or Pacific Islander]              1.0401      0.813      1.279      0.201      -0.554       2.634\n",
      "C(Race, Treatment('White'))[T.Hispanic]                               0.5969      0.264      2.259      0.024       0.079       1.115\n",
      "C(Race, Treatment('White'))[T.Other or Multiple Race Groups]          0.3029      0.409      0.741      0.459      -0.498       1.104\n",
      "C(Primary_Substance, Treatment('alcohol'))[T.cocaine/crack]           1.4838      0.484      3.065      0.002       0.535       2.433\n",
      "C(Primary_Substance, Treatment('alcohol'))[T.heroin]                  0.6820      0.267      2.550      0.011       0.158       1.206\n",
      "C(Primary_Substance, Treatment('alcohol'))[T.marijuana]               1.1414      0.535      2.134      0.033       0.093       2.190\n",
      "C(Primary_Substance, Treatment('alcohol'))[T.methamphetamine]         1.2325      0.222      5.540      0.000       0.796       1.668\n",
      "C(Primary_Substance, Treatment('alcohol'))[T.other]                   1.2288      0.473      2.596      0.009       0.301       2.157\n",
      "C(Primary_Substance, Treatment('alcohol'))[T.oxycodone/oxycontin]     0.5037      0.734      0.686      0.493      -0.935       1.943\n",
      "Age                                                                  -0.0109      0.006     -1.772      0.076      -0.023       0.001\n",
      "Frequency_Use                                                         0.0311      0.007      4.313      0.000       0.017       0.045\n",
      "=====================================================================================================================================\n",
      "Variables With P-Values<.05\n",
      "Intercept                                                             True\n",
      "C(Race, Treatment('White'))[T.African American]                      False\n",
      "C(Race, Treatment('White'))[T.American Indian]                       False\n",
      "C(Race, Treatment('White'))[T.Asian or Pacific Islander]             False\n",
      "C(Race, Treatment('White'))[T.Hispanic]                               True\n",
      "C(Race, Treatment('White'))[T.Other or Multiple Race Groups]         False\n",
      "C(Primary_Substance, Treatment('alcohol'))[T.cocaine/crack]           True\n",
      "C(Primary_Substance, Treatment('alcohol'))[T.heroin]                  True\n",
      "C(Primary_Substance, Treatment('alcohol'))[T.marijuana]               True\n",
      "C(Primary_Substance, Treatment('alcohol'))[T.methamphetamine]         True\n",
      "C(Primary_Substance, Treatment('alcohol'))[T.other]                   True\n",
      "C(Primary_Substance, Treatment('alcohol'))[T.oxycodone/oxycontin]    False\n",
      "Age                                                                  False\n",
      "Frequency_Use                                                         True\n",
      "dtype: bool\n",
      "=====================================================================================================================================\n",
      "Odds Ratios\n",
      "Intercept                                                            0.421401\n",
      "C(Race, Treatment('White'))[T.African American]                      1.497574\n",
      "C(Race, Treatment('White'))[T.American Indian]                       3.566162\n",
      "C(Race, Treatment('White'))[T.Asian or Pacific Islander]             2.829575\n",
      "C(Race, Treatment('White'))[T.Hispanic]                              1.816486\n",
      "C(Race, Treatment('White'))[T.Other or Multiple Race Groups]         1.353836\n",
      "C(Primary_Substance, Treatment('alcohol'))[T.cocaine/crack]          4.409790\n",
      "C(Primary_Substance, Treatment('alcohol'))[T.heroin]                 1.977827\n",
      "C(Primary_Substance, Treatment('alcohol'))[T.marijuana]              3.131169\n",
      "C(Primary_Substance, Treatment('alcohol'))[T.methamphetamine]        3.429641\n",
      "C(Primary_Substance, Treatment('alcohol'))[T.other]                  3.417127\n",
      "C(Primary_Substance, Treatment('alcohol'))[T.oxycodone/oxycontin]    1.654833\n",
      "Age                                                                  0.989129\n",
      "Frequency_Use                                                        1.031546\n",
      "dtype: float64\n"
     ]
    }
   ],
   "source": [
    "#Show logistic regression table for multivariable regression\n",
    "formula = \"long_stay ~ Age + Frequency_Use + C(Race, Treatment('White')) + C(Primary_Substance, Treatment('alcohol'))\"\n",
    "results = smf.logit(formula,detox).fit()\n",
    "print(results.summary())\n",
    "\n",
    "#Show second table which classifies each variable as statistically significant or not (\"True\" or \"False\")\n",
    "print(\"Variables With P-Values<.05\")\n",
    "print(results.pvalues<.05)\n",
    "\n",
    "#Show odds ratios\n",
    "print(\"=====================================================================================================================================\")\n",
    "print(\"Odds Ratios\")\n",
    "print(np.exp(results.params))"
   ]
  },
  {
   "cell_type": "markdown",
   "metadata": {},
   "source": [
    "<h3>Conclusions</h3>\n",
    "There is a lot to see in our final model. First, let's go through the second table, which quickly summarizes any variable with a p-value less than .05. These variables/categories: are <b>Hispanic, Cocaine/Crack, Heroin, Marijuana, Methampethamine, Other (Drug),</b> and <b>Frequency of Use.</b>\n",
    "<br>\n",
    "<br>\n",
    "Other variables lost their significance when combined with other variables, like Age. However, as already discussed, this is likely a result of an increase in stayers in the older age brackets. It was also a bit surprising to see that American Indian was not statistically significant, since our graphs at the beginning showed such a large number of American Indians staying compared to those that exited in less than 5 days. However, this was likely due to the small sample size of American Indians.\n",
    "<br>\n",
    "<br>\n",
    "The third table shows the coefficients converted to percentages. Looking only at those values that are statisically significant, we can draw the following inferences:\n",
    "<br>\n",
    "<br>\n",
    "<li><b>Race:</b> According to the p-value, Hispanic is the only race that is predictive of stays longer than 5 days. Individuals who are Hispanic have 1.81 higher odds of having longer stays than our baseline race group (White). While trends exist among other races, we cannot infer that these trends are due to race and not just a result of random chance.\n",
    "<br>\n",
    "<br>\n",
    "<li><b>Substance:</b> Individuals who use Cocaine, Methampethamine, Other, Marijuana, or Heroin have 4.4, 3.42, 3.41, 3.13, and 1.97 higher odds of having long stays compared to the baseline group (Alcohol), respectively. In other words, individuals who used Cocaine prior to entry into detox have the highest likelihood of staying longer than five days, followed by Methamphetamine and Other.\n",
    "<br>\n",
    "<br>\n",
    "<li><b>Frequency of Substance Use:</b> With an odds ratio of 1.03, we can infer than individuals increase their odds of a longer stay by .03 with each additional day that they used their substance prior to entry. Therefore, individuals who used their substance fewer days are less likely to stay as long, and individuals who used their substance every day of the 30 days leading up to detox have the highest likelihood of having longer stays. \n",
    "<h3>Recommendations</h3> In order to decrease long stays (5 or more days), this detox center should focus its efforts on a) Hispanic individuals who b) used Cocaine as their primary substance prior to entry, and c) used it the majority of the month prior to entry. In addition, it should target any other individuals who used Methamphetamines or \"Other\" Substances, and of this group, prioritize those who used their substance for more days prior to entry. "
   ]
  }
 ],
 "metadata": {
  "kernelspec": {
   "display_name": "Python 3",
   "language": "python",
   "name": "python3"
  },
  "language_info": {
   "codemirror_mode": {
    "name": "ipython",
    "version": 3
   },
   "file_extension": ".py",
   "mimetype": "text/x-python",
   "name": "python",
   "nbconvert_exporter": "python",
   "pygments_lexer": "ipython3",
   "version": "3.7.6"
  }
 },
 "nbformat": 4,
 "nbformat_minor": 4
}
